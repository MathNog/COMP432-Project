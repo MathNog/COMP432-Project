{
 "cells": [
  {
   "cell_type": "markdown",
   "id": "c9fe9b4d",
   "metadata": {},
   "source": [
    "## Time Series Analysis\n",
    "\n",
    "### Description:\n",
    "\n",
    "This notebook will implement functions to analyse, clean and visualize timse series"
   ]
  },
  {
   "cell_type": "code",
   "execution_count": 1,
   "id": "a9d5b687",
   "metadata": {},
   "outputs": [],
   "source": [
    "import numpy as np\n",
    "import pandas as pd\n",
    "import matplotlib.pyplot as plt"
   ]
  },
  {
   "cell_type": "markdown",
   "id": "cc96c4b1",
   "metadata": {},
   "source": [
    "Importing the time series"
   ]
  },
  {
   "cell_type": "code",
   "execution_count": 3,
   "id": "2f2e76a2",
   "metadata": {},
   "outputs": [
    {
     "data": {
      "text/html": [
       "<div>\n",
       "<style scoped>\n",
       "    .dataframe tbody tr th:only-of-type {\n",
       "        vertical-align: middle;\n",
       "    }\n",
       "\n",
       "    .dataframe tbody tr th {\n",
       "        vertical-align: top;\n",
       "    }\n",
       "\n",
       "    .dataframe thead th {\n",
       "        text-align: right;\n",
       "    }\n",
       "</style>\n",
       "<table border=\"1\" class=\"dataframe\">\n",
       "  <thead>\n",
       "    <tr style=\"text-align: right;\">\n",
       "      <th></th>\n",
       "      <th>Period</th>\n",
       "      <th>Value</th>\n",
       "    </tr>\n",
       "  </thead>\n",
       "  <tbody>\n",
       "    <tr>\n",
       "      <th>0</th>\n",
       "      <td>01-01-1992</td>\n",
       "      <td>146376.0</td>\n",
       "    </tr>\n",
       "    <tr>\n",
       "      <th>1</th>\n",
       "      <td>01-02-1992</td>\n",
       "      <td>147079.0</td>\n",
       "    </tr>\n",
       "    <tr>\n",
       "      <th>2</th>\n",
       "      <td>01-03-1992</td>\n",
       "      <td>159336.0</td>\n",
       "    </tr>\n",
       "    <tr>\n",
       "      <th>3</th>\n",
       "      <td>01-04-1992</td>\n",
       "      <td>163669.0</td>\n",
       "    </tr>\n",
       "    <tr>\n",
       "      <th>4</th>\n",
       "      <td>01-05-1992</td>\n",
       "      <td>170068.0</td>\n",
       "    </tr>\n",
       "  </tbody>\n",
       "</table>\n",
       "</div>"
      ],
      "text/plain": [
       "       Period     Value\n",
       "0  01-01-1992  146376.0\n",
       "1  01-02-1992  147079.0\n",
       "2  01-03-1992  159336.0\n",
       "3  01-04-1992  163669.0\n",
       "4  01-05-1992  170068.0"
      ]
     },
     "execution_count": 3,
     "metadata": {},
     "output_type": "execute_result"
    }
   ],
   "source": [
    "series = pd.read_csv('../data/SeriesReport-Not Seasonally Adjusted Sales - Monthly (Millions of Dollars).csv')\n",
    "\n",
    "series.head()"
   ]
  },
  {
   "cell_type": "code",
   "execution_count": 36,
   "id": "5e206683",
   "metadata": {},
   "outputs": [],
   "source": [
    "def plot_Series(serie,title,xlabel='Time',ylabel='Value'):\n",
    "    plt.figure()\n",
    "    plt.plot(serie.Value)\n",
    "    plt.title = title\n",
    "    plt.xlabel = xlabel\n",
    "    plt.ylabel = ylabel\n",
    "    plt.show()"
   ]
  },
  {
   "cell_type": "code",
   "execution_count": 37,
   "id": "722c1950",
   "metadata": {},
   "outputs": [
    {
     "data": {
      "image/png": "[encoded data removed]",
      "text/plain": [
       "<Figure size 432x288 with 1 Axes>"
      ]
     },
     "metadata": {
      "needs_background": "light"
     },
     "output_type": "display_data"
    }
   ],
   "source": [
    "plot_Series(series,\"Monthly Sales\")"
   ]
  }
 ],
 "metadata": {
  "kernelspec": {
   "display_name": "Python 3 (ipykernel)",
   "language": "python",
   "name": "python3"
  },
  "language_info": {
   "codemirror_mode": {
    "name": "ipython",
    "version": 3
   },
   "file_extension": ".py",
   "mimetype": "text/x-python",
   "name": "python",
   "nbconvert_exporter": "python",
   "pygments_lexer": "ipython3",
   "version": "3.8.10"
  }
 },
 "nbformat": 4,
 "nbformat_minor": 5
}
