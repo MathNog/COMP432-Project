{
 "cells": [
  {
   "cell_type": "markdown",
   "id": "281d1303",
   "metadata": {},
   "source": [
    "## GARCH Model\n",
    "\n",
    "### Description:\n",
    "\n",
    "In this notebook we will implement the code for a **GARCH Model** in order to make Financial **Time Series Forecasting**.\n",
    "\n",
    "Most of the notebook will be the same as in the **ARIMA** notebook, since the pre-process the the series must have is quite similar.\n",
    "\n",
    "As explained in the **SeriesAnalysis** notebook, this notebook will use the results already obtained in **Series Analysis**, so that the focus can be only on the Model itself."
   ]
  },
  {
   "cell_type": "markdown",
   "id": "84220ef4",
   "metadata": {},
   "source": [
    "### GARCH Model Brief Introduction\n",
    "\n",
    "## COMPLETE"
   ]
  },
  {
   "cell_type": "code",
   "execution_count": 1,
   "id": "eb89dcfb",
   "metadata": {},
   "outputs": [],
   "source": [
    "### Some useful functions\n",
    "import pandas as pd\n",
    "import matplotlib.pyplot as plt\n",
    "import numpy as np\n",
    "from statsmodels.tsa.arima.model import ARIMA\n",
    "from arch import arch_model"
   ]
  },
  {
   "cell_type": "markdown",
   "id": "be635b1f",
   "metadata": {},
   "source": [
    "### Some useful functions\n"
   ]
  },
  {
   "cell_type": "code",
   "execution_count": 5,
   "id": "a14c692f",
   "metadata": {},
   "outputs": [],
   "source": [
    "#Read and filter data from csv files, as well as handle missing values\n",
    "def read_filter(path,index,value,freq):\n",
    "    df = pd.read_csv(path)\n",
    "    series = df.loc[:,[index,value]]\n",
    "    series.set_index(index,inplace=True)\n",
    "    series.index=pd.to_datetime(series.index)\n",
    "    series = series.asfreq('d')\n",
    "    series = series.interpolate()\n",
    "    return series\n",
    "\n",
    "#Ploting a single time series\n",
    "def plot_series(serie,title,xlabel,ylabel):\n",
    "    plt.figure()\n",
    "    plt.plot(serie)\n",
    "    plt.title=title\n",
    "    plt.xlabel=xlabel\n",
    "    plt.ylabel=ylabel\n",
    "    plt.show()\n",
    "    \n",
    "    \n",
    "# differentiate the series\n",
    "def diff(series,t):\n",
    "    for i in range(t):\n",
    "        series = series - series.shift(1)\n",
    "        series = series.dropna()\n",
    "    \n",
    "    return series\n",
    "\n",
    "#train test split\n",
    "def train_test(serie,numtest):\n",
    "    train = serie.iloc[0:len(serie)-numtest]\n",
    "    test = serie.iloc[len(serie)-numtest:]    \n",
    "    return train, test\n",
    "    \n",
    "#Compute some error metrics\n",
    "def errors(actual, predicted):\n",
    "    mape = np.mean(np.abs(predicted - actual)/np.abs(actual))  # MAPE\n",
    "    me = np.mean(predicted - actual)             # ME\n",
    "    mae = np.mean(np.abs(predicted - actual))    # MAE\n",
    "    mpe = np.mean((predicted - actual)/actual)   # MPE\n",
    "    rmse = np.mean((predicted - actual)**2)**.5  # RMSE\n",
    "    \n",
    "    errors = [['MAPE',mape],['ME',me],['MAE',mae],['MPE',mpe],['RMSE',rmse]]\n",
    "    \n",
    "    errors = pd.DataFrame(errors,columns=['Error','Value'])\n",
    "    return errors\n",
    "\n"
   ]
  },
  {
   "cell_type": "code",
   "execution_count": 6,
   "id": "41bdcd0d",
   "metadata": {},
   "outputs": [],
   "source": [
    "#Importing the dataset and making some changes\n",
    "USD_CAD_serie = read_filter('../data/CAD=X.csv','Date','Adj Close','w')\n",
    "USD_BRL_serie = read_filter('../data/BRL=X.csv','Date','Adj Close','w')\n",
    "AmericanAirlines_serie = read_filter('../data/AAL2010_2019.csv','Date','Adj Close','w')\n",
    "\n",
    "#differentiating the series\n",
    "USD_CAD_serie_diff1 = diff(USD_CAD_serie,1)\n",
    "USD_BRL_serie_diff1 = diff(USD_BRL_serie,1)\n",
    "AmericanAirlines_serie_diff1 = diff(AmericanAirlines_serie,1)"
   ]
  },
  {
   "cell_type": "markdown",
   "id": "4923d1f4",
   "metadata": {},
   "source": [
    "## Train and Test Split"
   ]
  },
  {
   "cell_type": "code",
   "execution_count": 7,
   "id": "34f83db8",
   "metadata": {},
   "outputs": [],
   "source": [
    "largest_horizon = 12 # 12 weeks, 3 months\n",
    "\n",
    "train_American_diff1, test_American_diff1 = train_test(AmericanAirlines_serie_diff1,12)\n",
    "train_USD_CAD_diff1, test_USD_CAD_diff1 = train_test(USD_CAD_serie_diff1,12)\n",
    "train_USD_BRL_diff1, test_USD_BRL_diff1 = train_test(USD_BRL_serie_diff1,12)"
   ]
  },
  {
   "cell_type": "markdown",
   "id": "efaa5b6b",
   "metadata": {},
   "source": [
    "## Fit ARIMA+GARCH Model"
   ]
  },
  {
   "cell_type": "code",
   "execution_count": 9,
   "id": "9e901d62",
   "metadata": {},
   "outputs": [
    {
     "name": "stderr",
     "output_type": "stream",
     "text": [
      "C:\\Users\\matno\\miniconda3\\lib\\site-packages\\statsmodels\\base\\model.py:604: ConvergenceWarning: Maximum Likelihood optimization failed to converge. Check mle_retvals\n",
      "  warnings.warn(\"Maximum Likelihood optimization failed to \"\n"
     ]
    },
    {
     "name": "stdout",
     "output_type": "stream",
     "text": [
      "Iteration:      1,   Func. Count:      6,   Neg. LLF: 109984891.87394111\n",
      "Iteration:      2,   Func. Count:     17,   Neg. LLF: 3578.1855827930244\n",
      "Iteration:      3,   Func. Count:     24,   Neg. LLF: 47555.29349965341\n",
      "Iteration:      4,   Func. Count:     30,   Neg. LLF: 2179938932.3729715\n",
      "Iteration:      5,   Func. Count:     41,   Neg. LLF: 715393.9523573071\n",
      "Iteration:      6,   Func. Count:     51,   Neg. LLF: -2888.021541758713\n",
      "Optimization terminated successfully    (Exit mode 0)\n",
      "            Current function value: -2888.021501326287\n",
      "            Iterations: 10\n",
      "            Function evaluations: 51\n",
      "            Gradient evaluations: 6\n",
      "Iteration:      1,   Func. Count:      5,   Neg. LLF: -22050.216957599157\n",
      "Inequality constraints incompatible    (Exit mode 4)\n",
      "            Current function value: -22050.217016308117\n",
      "            Iterations: 1\n",
      "            Function evaluations: 5\n",
      "            Gradient evaluations: 1\n",
      "Iteration:      1,   Func. Count:      5,   Neg. LLF: -15882.267680383016\n",
      "Inequality constraints incompatible    (Exit mode 4)\n",
      "            Current function value: -15882.267637987761\n",
      "            Iterations: 1\n",
      "            Function evaluations: 5\n",
      "            Gradient evaluations: 1\n"
     ]
    },
    {
     "name": "stderr",
     "output_type": "stream",
     "text": [
      "C:\\Users\\matno\\miniconda3\\lib\\site-packages\\arch\\univariate\\base.py:292: DataScaleWarning: y is poorly scaled, which may affect convergence of the optimizer when\n",
      "estimating the model parameters. The scale of y is 0.0148. Parameter\n",
      "estimation work better when this value is between 1 and 1000. The recommended\n",
      "rescaling is 10 * y.\n",
      "\n",
      "This warning can be disabled by either rescaling y before initializing the\n",
      "model or by setting rescale=False.\n",
      "\n",
      "  warnings.warn(\n",
      "C:\\Users\\matno\\miniconda3\\lib\\site-packages\\arch\\univariate\\base.py:292: DataScaleWarning: y is poorly scaled, which may affect convergence of the optimizer when\n",
      "estimating the model parameters. The scale of y is 1.023e-06. Parameter\n",
      "estimation work better when this value is between 1 and 1000. The recommended\n",
      "rescaling is 1000 * y.\n",
      "\n",
      "This warning can be disabled by either rescaling y before initializing the\n",
      "model or by setting rescale=False.\n",
      "\n",
      "  warnings.warn(\n",
      "C:\\Users\\matno\\miniconda3\\lib\\site-packages\\arch\\univariate\\base.py:707: ConvergenceWarning: The optimizer returned code 4. The message is:\n",
      "Inequality constraints incompatible\n",
      "See scipy.optimize.fmin_slsqp for code meaning.\n",
      "\n",
      "  warnings.warn(\n",
      "C:\\Users\\matno\\miniconda3\\lib\\site-packages\\arch\\univariate\\base.py:292: DataScaleWarning: y is poorly scaled, which may affect convergence of the optimizer when\n",
      "estimating the model parameters. The scale of y is 2.953e-05. Parameter\n",
      "estimation work better when this value is between 1 and 1000. The recommended\n",
      "rescaling is 100 * y.\n",
      "\n",
      "This warning can be disabled by either rescaling y before initializing the\n",
      "model or by setting rescale=False.\n",
      "\n",
      "  warnings.warn(\n",
      "C:\\Users\\matno\\miniconda3\\lib\\site-packages\\arch\\univariate\\base.py:707: ConvergenceWarning: The optimizer returned code 4. The message is:\n",
      "Inequality constraints incompatible\n",
      "See scipy.optimize.fmin_slsqp for code meaning.\n",
      "\n",
      "  warnings.warn(\n"
     ]
    }
   ],
   "source": [
    "arima_American_diff1 = ARIMA(train_American_diff1,order=(1,0,1)).fit()\n",
    "arima_USD_CAD_diff1 = ARIMA(train_USD_CAD_diff1,order=(1,0,1)).fit()\n",
    "arima_USD_BRL_diff1 = ARIMA(train_USD_BRL_diff1,order=(1,0,1)).fit()\n",
    "\n",
    "garch_American_diff1 = arch_model(arima_American_diff1.resid, vol='Garch', p=1, o=0, q=1, dist='Normal').fit()\n",
    "garch_USD_CAD_diff1 = arch_model(arima_USD_CAD_diff1.resid, vol='Garch', p=1, o=0, q=1, dist='Normal').fit()\n",
    "garch_USD_BRL_diff1 = arch_model(arima_USD_BRL_diff1.resid, vol='Garch', p=1, o=0, q=1, dist='Normal').fit()"
   ]
  },
  {
   "cell_type": "markdown",
   "id": "617d7757",
   "metadata": {},
   "source": [
    "## Forecasting\n"
   ]
  },
  {
   "cell_type": "code",
   "execution_count": 12,
   "id": "22b4009a",
   "metadata": {},
   "outputs": [
    {
     "data": {
      "image/png": "[encoded data removed]",
      "text/plain": [
       "<Figure size 432x288 with 1 Axes>"
      ]
     },
     "metadata": {
      "needs_background": "light"
     },
     "output_type": "display_data"
    },
    {
     "data": {
      "image/png": "[encoded data removed]",
      "text/plain": [
       "<Figure size 432x288 with 1 Axes>"
      ]
     },
     "metadata": {
      "needs_background": "light"
     },
     "output_type": "display_data"
    },
    {
     "data": {
      "image/png": "[encoded data removed]",
      "text/plain": [
       "<Figure size 432x288 with 1 Axes>"
      ]
     },
     "metadata": {
      "needs_background": "light"
     },
     "output_type": "display_data"
    }
   ],
   "source": [
    "arima_for_American = arima_American_diff1.predict(start=test_American_diff1.index.astype(str)[0],end=test_American_diff1.index.astype(str)[-1])\n",
    "arima_for_BRL = arima_USD_BRL_diff1.predict(start=test_USD_BRL_diff1.index.astype(str)[0],end=test_USD_BRL_diff1.index.astype(str)[-1])\n",
    "arima_for_CAD = arima_USD_CAD_diff1.predict(start=test_USD_CAD_diff1.index.astype(str)[0],end=test_USD_CAD_diff1.index.astype(str)[-1])\n",
    "\n",
    "garch_for_American = garch_American_diff1.forecast(horizon=12)\n",
    "garch_for_BRL = garch_USD_BRL_diff1.forecast(horizon=12)\n",
    "garch_for_CAD = garch_USD_CAD_diff1.forecast(horizon=12)\n",
    "\n",
    "for_American = arima_for_American.copy(deep=True)\n",
    "for_BRL = arima_for_BRL.copy(deep=True)\n",
    "for_CAD = arima_for_CAD.copy(deep=True)\n",
    "\n",
    "for i in range(12):\n",
    "    for_American[i] += garch_for_American.mean.iloc[-1][i]\n",
    "    for_BRL = garch_for_BRL.mean.iloc[-1][i]\n",
    "    for_CAD = garch_for_CAD.mean.iloc[-1][i]\n",
    "\n",
    "comp_for_American = test_American_diff1.copy(deep=True)\n",
    "comp_for_BRL = test_USD_BRL_diff1.copy(deep=True)\n",
    "comp_for_CAD = test_USD_CAD_diff1.copy(deep=True)\n",
    "\n",
    "comp_for_American['Forecast'] =for_American\n",
    "comp_for_BRL['Forecast'] = for_BRL\n",
    "comp_for_CAD['Forecast'] = for_CAD\n",
    "\n",
    "\n",
    "plt.figure()\n",
    "plt.plot(comp_for_American)\n",
    "plt.figure()\n",
    "plt.plot(comp_for_BRL)\n",
    "plt.figure()\n",
    "plt.plot(comp_for_CAD);"
   ]
  },
  {
   "cell_type": "code",
   "execution_count": 13,
   "id": "dfdfbe4e",
   "metadata": {},
   "outputs": [
    {
     "name": "stdout",
     "output_type": "stream",
     "text": [
      "American\n",
      "  Error     Value\n",
      "0  MAPE  0.856045\n",
      "1    ME  0.110645\n",
      "2   MAE  0.161273\n",
      "3   MPE -0.856045\n",
      "4  RMSE  0.183140\n",
      "USD/BRL\n",
      "  Error     Value\n",
      "0  MAPE  1.000513\n",
      "1    ME -0.005821\n",
      "2   MAE  0.009902\n",
      "3   MPE -1.000513\n",
      "4  RMSE  0.012469\n",
      "USD/CAD\n",
      "  Error     Value\n",
      "0  MAPE  1.000032\n",
      "1    ME  0.000204\n",
      "2   MAE  0.001376\n",
      "3   MPE -1.000032\n",
      "4  RMSE  0.001377\n"
     ]
    }
   ],
   "source": [
    "for_errors_American_diff1 = errors(comp_for_American['Adj Close'],comp_for_American['Forecast'])\n",
    "for_errors_USD_CAD_diff1 = errors(comp_for_CAD['Adj Close'],comp_for_CAD['Forecast'])\n",
    "for_errors_USD_BRL_diff1 = errors(comp_for_BRL['Adj Close'],comp_for_BRL['Forecast'])\n",
    "\n",
    "print('American')\n",
    "print(for_errors_American_diff1)\n",
    "print('USD/BRL')\n",
    "print(for_errors_USD_BRL_diff1)\n",
    "print('USD/CAD')\n",
    "print(for_errors_USD_CAD_diff1)"
   ]
  }
 ],
 "metadata": {
  "kernelspec": {
   "display_name": "Python 3 (ipykernel)",
   "language": "python",
   "name": "python3"
  },
  "language_info": {
   "codemirror_mode": {
    "name": "ipython",
    "version": 3
   },
   "file_extension": ".py",
   "mimetype": "text/x-python",
   "name": "python",
   "nbconvert_exporter": "python",
   "pygments_lexer": "ipython3",
   "version": "3.8.10"
  }
 },
 "nbformat": 4,
 "nbformat_minor": 5
}
