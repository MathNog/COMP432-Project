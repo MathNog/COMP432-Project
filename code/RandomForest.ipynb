{
 "cells": [
  {
   "cell_type": "markdown",
   "metadata": {},
   "source": [
    "## Random Forest Notebook\n",
    "\n",
    "### Description:\n",
    "\n",
    "This notebook aims to implement a **Random Forests** for Forecasting Time Series.\n",
    "\n",
    "As explained in the **SeriesAnalysis** notebook, this notebook may use the results already obtained in **Series Analysis**, so that the focus can be only on the Model itself. The results that will be used are the stationary series obtained from the original series, in order to verify if the **Random Forests** are capable of forecasting both stationary and non stationary series."
   ]
  },
  {
   "cell_type": "code",
   "execution_count": 12,
   "id": "54dc6cf8",
   "metadata": {},
   "outputs": [],
   "source": [
    "#Packages needed\n",
    "\n",
    "import numpy as np\n",
    "import pandas as pd\n",
    "import matplotlib.pyplot as plt\n",
    "import sklearn.ensemble    # For RandomForestClassifier class\n",
    "import sklearn.model_selection #For train test split\n",
    "# COMPLETE WITH PACKEGES FOR MLP"
   ]
  },
  {
   "cell_type": "markdown",
   "id": "81544a8d",
   "metadata": {},
   "source": [
    "### Some useful functions -> COMPLETE WITH MORE IF NEEDED AND DELETE ONES NOT NEEDED"
   ]
  },
  {
   "cell_type": "code",
   "execution_count": 2,
   "id": "1fb9f135",
   "metadata": {},
   "outputs": [],
   "source": [
    "#Read and filter data from csv files, as well as handle missing values\n",
    "def read_filter(path,index,value):\n",
    "    df = pd.read_csv(path)\n",
    "    series = df.loc[:,[index,value]]\n",
    "    series.set_index(index,inplace=True)\n",
    "    series.index=pd.to_datetime(series.index)\n",
    "    series = series.asfreq('d')\n",
    "    series = series.interpolate()\n",
    "    return series\n",
    "\n",
    "# #Ploting a single time series\n",
    "# def plot_series(serie,title,xlabel,ylabel):\n",
    "#     fig = plt.figure()\n",
    "#     plt.plot(serie)\n",
    "#     fig.suptitle(title, fontsize=20)\n",
    "#     plt.xlabel(xlabel, fontsize=18)\n",
    "#     plt.ylabel(ylabel, fontsize=18)\n",
    "#     plt.show()\n",
    "\n",
    "#plot two time series\n",
    "def plot_2_series(real,model,title,xlabel=\"Time\",ylabel=\"Values\"):\n",
    "    fig = plt.figure()\n",
    "    plt.plot(real)\n",
    "    plt.plot(model)\n",
    "    fig.suptitle(title, fontsize=20)\n",
    "    # plt.xlabel(xlabel, fontsize=18)\n",
    "    # plt.ylabel(ylabel, fontsize=18)\n",
    "    plt.legend(['Original Series','Predicted'])\n",
    "    plt.show()\n",
    "    \n",
    "    \n",
    "# differentiate the series\n",
    "def diff(series,t):\n",
    "    for i in range(t):\n",
    "        series = series - series.shift(1)\n",
    "        series = series.dropna()\n",
    "    \n",
    "    return series\n",
    "\n",
    "\n",
    "# #normalize time series values into range [0,1]\n",
    "# def normalize(serie):\n",
    "#     values = serie.values[:,0]\n",
    "\n",
    "#     _min = np.min(values)\n",
    "#     _max = np.max(values)\n",
    "    \n",
    "#     norm_values = (values - _min)/(_max - _min)\n",
    "    \n",
    "#     newSerie = pd.Series(norm_values)\n",
    "\n",
    "#     return newSerie\n",
    "\n",
    "#spli_serie -> creates a Dataframe test and one for training\n",
    "def split_serie(serie,lags,split):\n",
    "    \n",
    "    data_values = serie.values\n",
    "\n",
    "    train_values = data_values[:-split].reshape(-1,1)\n",
    "    test_values = data_values[-split:].reshape(-1,1)\n",
    "\n",
    "    train_data = np.zeros((train_values.shape[0] - (lags + 1), lags + 2))\n",
    "    test_data = np.zeros((test_values.shape[0], lags + 2))\n",
    "    \n",
    "    \n",
    "    all_data = np.vstack((train_values,test_values))\n",
    "\n",
    "    new_data = np.zeros((train_values.shape[0] - (lags + 1) + test_values.shape[0],lags + 2))\n",
    "    \n",
    "    \n",
    "    for i in range(lags + 2):\n",
    "        new_data[:,i] = all_data[i:new_data.shape[0]+i,0]\n",
    "\n",
    "    train_data = new_data[:-test_values.shape[0],:]\n",
    "    test_data = new_data[-test_values.shape[0]:,:]\n",
    "\n",
    "    data_columns = [f'y(t{i})' if i < 0 else 'y(t)' if i == 0 else f'y(t+{i})' for i in range(-lags,2)] \n",
    "    new_train_df = pd.DataFrame(train_data, columns=data_columns,dtype=np.float64)\n",
    "    new_test_df = pd.DataFrame(test_data, columns=data_columns,dtype=np.float64)\n",
    "\n",
    "    return new_train_df,new_test_df\n",
    "\n",
    "\n",
    "\n",
    "    \n",
    "#Compute some error metrics\n",
    "def errors(actual, predicted):\n",
    "    mape = np.mean(np.abs(predicted - actual)/np.abs(actual))  # MAPE\n",
    "    me = np.mean(predicted - actual)             # ME\n",
    "    mae = np.mean(np.abs(predicted - actual))    # MAE\n",
    "    mpe = np.mean((predicted - actual)/actual)   # MPE\n",
    "    rmse = np.mean((predicted - actual)**2)**.5  # RMSE\n",
    "    \n",
    "    errors = [['MAPE',mape],['ME',me],['MAE',mae],['MPE',mpe],['RMSE',rmse]]\n",
    "    \n",
    "    errors = pd.DataFrame(errors,columns=['Error','Value'])\n",
    "    return errors"
   ]
  },
  {
   "cell_type": "markdown",
   "id": "3ffe8aff",
   "metadata": {},
   "source": [
    "### Importing the series and differenciating in order to get stationary behavior"
   ]
  },
  {
   "cell_type": "code",
   "execution_count": 3,
   "id": "b2288a79",
   "metadata": {},
   "outputs": [],
   "source": [
    "#Importing the dataset and making some changes\n",
    "USD_CAD_serie = read_filter('../data/CAD=X.csv','Date','Adj Close')\n",
    "USD_BRL_serie = read_filter('../data/BRL=X.csv','Date','Adj Close')\n",
    "AmericanAirlines_serie = read_filter('../data/AAL2010_2019.csv','Date','Adj Close')\n",
    "\n",
    "#differentiating the series\n",
    "USD_CAD_serie_diff1 = diff(USD_CAD_serie,1)\n",
    "USD_BRL_serie_diff1 = diff(USD_BRL_serie,1)\n",
    "AmericanAirlines_serie_diff1 = diff(AmericanAirlines_serie,1)"
   ]
  },
  {
   "cell_type": "markdown",
   "id": "4f96b507",
   "metadata": {},
   "source": [
    "## Training and Test Sets\n",
    "\n",
    "We must divide our time series into a training and test sample. \n",
    "\n",
    "# COMPLETE 1!!!!!!!!!!!!"
   ]
  },
  {
   "cell_type": "code",
   "execution_count": 4,
   "id": "413e870d",
   "metadata": {},
   "outputs": [
    {
     "name": "stdout",
     "output_type": "stream",
     "text": [
      "    y(t-12)   y(t-11)   y(t-10)    y(t-9)    y(t-8)    y(t-7)    y(t-6)  \\\n",
      "0  0.068319  0.068319  0.068319  0.068319  0.118135  0.118135  0.118135   \n",
      "1  0.068319  0.068319  0.068319  0.118135  0.118135  0.118135  0.118135   \n",
      "2  0.068319  0.068319  0.118135  0.118135  0.118135  0.118135  0.118135   \n",
      "3  0.068319  0.118135  0.118135  0.118135  0.118135  0.118135  0.118135   \n",
      "4  0.118135  0.118135  0.118135  0.118135  0.118135  0.118135  0.118135   \n",
      "\n",
      "     y(t-5)    y(t-4)    y(t-3)    y(t-2)    y(t-1)      y(t)    y(t+1)  \n",
      "0  0.118135  0.118135  0.118135  0.118135  0.159411  0.159411  0.159411  \n",
      "1  0.118135  0.118135  0.118135  0.159411  0.159411  0.159411  0.159411  \n",
      "2  0.118135  0.118135  0.159411  0.159411  0.159411  0.159411  0.159411  \n",
      "3  0.118135  0.159411  0.159411  0.159411  0.159411  0.159411  0.159411  \n",
      "4  0.159411  0.159411  0.159411  0.159411  0.159411  0.159411  0.159411  \n"
     ]
    },
    {
     "data": {
      "text/html": [
       "<div>\n",
       "<style scoped>\n",
       "    .dataframe tbody tr th:only-of-type {\n",
       "        vertical-align: middle;\n",
       "    }\n",
       "\n",
       "    .dataframe tbody tr th {\n",
       "        vertical-align: top;\n",
       "    }\n",
       "\n",
       "    .dataframe thead th {\n",
       "        text-align: right;\n",
       "    }\n",
       "</style>\n",
       "<table border=\"1\" class=\"dataframe\">\n",
       "  <thead>\n",
       "    <tr style=\"text-align: right;\">\n",
       "      <th></th>\n",
       "      <th>y(t-12)</th>\n",
       "      <th>y(t-11)</th>\n",
       "      <th>y(t-10)</th>\n",
       "      <th>y(t-9)</th>\n",
       "      <th>y(t-8)</th>\n",
       "      <th>y(t-7)</th>\n",
       "      <th>y(t-6)</th>\n",
       "      <th>y(t-5)</th>\n",
       "      <th>y(t-4)</th>\n",
       "      <th>y(t-3)</th>\n",
       "      <th>y(t-2)</th>\n",
       "      <th>y(t-1)</th>\n",
       "      <th>y(t)</th>\n",
       "      <th>y(t+1)</th>\n",
       "    </tr>\n",
       "  </thead>\n",
       "  <tbody>\n",
       "    <tr>\n",
       "      <th>0</th>\n",
       "      <td>0.047137</td>\n",
       "      <td>0.047137</td>\n",
       "      <td>0.047137</td>\n",
       "      <td>0.047137</td>\n",
       "      <td>0.047137</td>\n",
       "      <td>0.047137</td>\n",
       "      <td>0.047137</td>\n",
       "      <td>-0.017508</td>\n",
       "      <td>-0.017508</td>\n",
       "      <td>-0.017508</td>\n",
       "      <td>-0.017508</td>\n",
       "      <td>-0.017508</td>\n",
       "      <td>-0.017508</td>\n",
       "      <td>-0.017508</td>\n",
       "    </tr>\n",
       "    <tr>\n",
       "      <th>1</th>\n",
       "      <td>0.047137</td>\n",
       "      <td>0.047137</td>\n",
       "      <td>0.047137</td>\n",
       "      <td>0.047137</td>\n",
       "      <td>0.047137</td>\n",
       "      <td>0.047137</td>\n",
       "      <td>-0.017508</td>\n",
       "      <td>-0.017508</td>\n",
       "      <td>-0.017508</td>\n",
       "      <td>-0.017508</td>\n",
       "      <td>-0.017508</td>\n",
       "      <td>-0.017508</td>\n",
       "      <td>-0.017508</td>\n",
       "      <td>-0.043097</td>\n",
       "    </tr>\n",
       "    <tr>\n",
       "      <th>2</th>\n",
       "      <td>0.047137</td>\n",
       "      <td>0.047137</td>\n",
       "      <td>0.047137</td>\n",
       "      <td>0.047137</td>\n",
       "      <td>0.047137</td>\n",
       "      <td>-0.017508</td>\n",
       "      <td>-0.017508</td>\n",
       "      <td>-0.017508</td>\n",
       "      <td>-0.017508</td>\n",
       "      <td>-0.017508</td>\n",
       "      <td>-0.017508</td>\n",
       "      <td>-0.017508</td>\n",
       "      <td>-0.043097</td>\n",
       "      <td>-0.043097</td>\n",
       "    </tr>\n",
       "    <tr>\n",
       "      <th>3</th>\n",
       "      <td>0.047137</td>\n",
       "      <td>0.047137</td>\n",
       "      <td>0.047137</td>\n",
       "      <td>0.047137</td>\n",
       "      <td>-0.017508</td>\n",
       "      <td>-0.017508</td>\n",
       "      <td>-0.017508</td>\n",
       "      <td>-0.017508</td>\n",
       "      <td>-0.017508</td>\n",
       "      <td>-0.017508</td>\n",
       "      <td>-0.017508</td>\n",
       "      <td>-0.043097</td>\n",
       "      <td>-0.043097</td>\n",
       "      <td>-0.043097</td>\n",
       "    </tr>\n",
       "    <tr>\n",
       "      <th>4</th>\n",
       "      <td>0.047137</td>\n",
       "      <td>0.047137</td>\n",
       "      <td>0.047137</td>\n",
       "      <td>-0.017508</td>\n",
       "      <td>-0.017508</td>\n",
       "      <td>-0.017508</td>\n",
       "      <td>-0.017508</td>\n",
       "      <td>-0.017508</td>\n",
       "      <td>-0.017508</td>\n",
       "      <td>-0.017508</td>\n",
       "      <td>-0.043097</td>\n",
       "      <td>-0.043097</td>\n",
       "      <td>-0.043097</td>\n",
       "      <td>-0.043097</td>\n",
       "    </tr>\n",
       "  </tbody>\n",
       "</table>\n",
       "</div>"
      ],
      "text/plain": [
       "    y(t-12)   y(t-11)   y(t-10)    y(t-9)    y(t-8)    y(t-7)    y(t-6)  \\\n",
       "0  0.047137  0.047137  0.047137  0.047137  0.047137  0.047137  0.047137   \n",
       "1  0.047137  0.047137  0.047137  0.047137  0.047137  0.047137 -0.017508   \n",
       "2  0.047137  0.047137  0.047137  0.047137  0.047137 -0.017508 -0.017508   \n",
       "3  0.047137  0.047137  0.047137  0.047137 -0.017508 -0.017508 -0.017508   \n",
       "4  0.047137  0.047137  0.047137 -0.017508 -0.017508 -0.017508 -0.017508   \n",
       "\n",
       "     y(t-5)    y(t-4)    y(t-3)    y(t-2)    y(t-1)      y(t)    y(t+1)  \n",
       "0 -0.017508 -0.017508 -0.017508 -0.017508 -0.017508 -0.017508 -0.017508  \n",
       "1 -0.017508 -0.017508 -0.017508 -0.017508 -0.017508 -0.017508 -0.043097  \n",
       "2 -0.017508 -0.017508 -0.017508 -0.017508 -0.017508 -0.043097 -0.043097  \n",
       "3 -0.017508 -0.017508 -0.017508 -0.017508 -0.043097 -0.043097 -0.043097  \n",
       "4 -0.017508 -0.017508 -0.017508 -0.043097 -0.043097 -0.043097 -0.043097  "
      ]
     },
     "execution_count": 4,
     "metadata": {},
     "output_type": "execute_result"
    }
   ],
   "source": [
    "largest_horizon = 12 #12 weeks, 3 months\n",
    "split = 12 #number of entries for test\n",
    "lags = 12 #number of past values that will be used to train the model\n",
    "\n",
    "train_American_diff1, test_American_diff1 = split_serie(AmericanAirlines_serie_diff1,lags,split)\n",
    "train_USD_CAD_diff1, test_USD_CAD_diff1 = split_serie(USD_CAD_serie_diff1,lags,split)\n",
    "train_USD_BRL_diff1, test_USD_BRL_diff1 = split_serie(USD_BRL_serie_diff1,lags,split)\n",
    "\n",
    "#Let's take a look into the test series\n",
    "print(test_American_diff1.head())\n",
    "\n",
    "#Let's just take a look into the dataframe.\n",
    "train_American_diff1.head()"
   ]
  },
  {
   "cell_type": "markdown",
   "metadata": {},
   "source": [
    "The last column *y(t+1)* is our target, so it will be the **y** objects"
   ]
  },
  {
   "cell_type": "code",
   "execution_count": 15,
   "metadata": {},
   "outputs": [],
   "source": [
    "american_X_train = train_American_diff1.values[:,:-1]\n",
    "american_y_train = train_American_diff1.values[:,-1]\n",
    "\n",
    "american_X_test = test_American_diff1.values[:,:-1]\n",
    "american_y_test = test_American_diff1.values[:,-1]\n",
    "\n",
    "USD_CAD_X_train = train_USD_CAD_diff1.values[:,:-1]\n",
    "USD_CAD_y_train = train_USD_CAD_diff1.values[:,-1]\n",
    "\n",
    "USD_CAD_X_test = test_USD_CAD_diff1.values[:,:-1]\n",
    "USD_CAD_y_test = test_USD_CAD_diff1.values[:,-1]\n",
    "\n",
    "USD_BRL_X_train = train_USD_BRL_diff1.values[:,:-1]\n",
    "USD_BRL_y_train = train_USD_BRL_diff1.values[:,-1]\n",
    "\n",
    "USD_BRL_X_test = test_USD_BRL_diff1.values[:,:-1]\n",
    "USD_BRL_y_test = test_USD_BRL_diff1.values[:,-1]"
   ]
  },
  {
   "cell_type": "markdown",
   "metadata": {},
   "source": [
    "## Implementing Random Forests with Hyperparemeter Search"
   ]
  },
  {
   "cell_type": "code",
   "execution_count": 20,
   "metadata": {},
   "outputs": [],
   "source": [
    "#Hyperparameters\n",
    "max_depth = [5,10,15,20,50,100]\n",
    "n_estimators = [10,20,50,100,200]"
   ]
  },
  {
   "cell_type": "code",
   "execution_count": 23,
   "metadata": {},
   "outputs": [],
   "source": [
    "clf = sklearn.ensemble.RandomForestRegressor()\n",
    "param_grid = {'max_depth':max_depth,'n_estimators':n_estimators}\n",
    "\n",
    "clf_grid_American = sklearn.model_selection.GridSearchCV(clf, param_grid).fit(american_X_train,american_y_train)\n",
    "clf_grid_USD_CAD = sklearn.model_selection.GridSearchCV(clf, param_grid).fit(USD_CAD_X_train,USD_CAD_y_train)\n",
    "clf_grid_USD_BRL = sklearn.model_selection.GridSearchCV(clf, param_grid).fit(USD_BRL_X_train,USD_BRL_y_train)\n"
   ]
  },
  {
   "cell_type": "code",
   "execution_count": 25,
   "metadata": {},
   "outputs": [
    {
     "name": "stdout",
     "output_type": "stream",
     "text": [
      "Best Hyperparameters American {'max_depth': 5, 'n_estimators': 100}\n",
      "Best estimator American RandomForestRegressor(max_depth=5)\n",
      "Training Accuracy American 0.8574861713377563\n",
      "\n",
      "Best Hyperparameters USD/CAD {'max_depth': 5, 'n_estimators': 100}\n",
      "Best estimator USD/CAD RandomForestRegressor(max_depth=5)\n",
      "Training Accuracy USD/CAD 0.8508505801971799\n",
      "\n",
      "Best Hyperparameters USD/CAD {'max_depth': 5, 'n_estimators': 50}\n",
      "Best estimator USD/CAD RandomForestRegressor(max_depth=5, n_estimators=50)\n",
      "Training Accuracy USD/BRL 0.855606699541184\n"
     ]
    }
   ],
   "source": [
    "print('Best Hyperparameters American' ,clf_grid_American.best_params_)\n",
    "print('Best estimator American',clf_grid_American.best_estimator_)\n",
    "print('Training Accuracy American',clf_grid_American.score(american_X_train,american_y_train))\n",
    "\n",
    "\n",
    "print('\\nBest Hyperparameters USD/CAD' ,clf_grid_USD_CAD.best_params_)\n",
    "print('Best estimator USD/CAD',clf_grid_USD_CAD.best_estimator_)\n",
    "print('Training Accuracy USD/CAD',clf_grid_USD_CAD.score(USD_CAD_X_train,USD_CAD_y_train))\n",
    "\n",
    "print('\\nBest Hyperparameters USD/CAD' ,clf_grid_USD_BRL.best_params_)\n",
    "print('Best estimator USD/CAD',clf_grid_USD_BRL.best_estimator_)\n",
    "print('Training Accuracy USD/BRL',clf_grid_USD_BRL.score(USD_BRL_X_train,USD_BRL_y_train))"
   ]
  },
  {
   "cell_type": "markdown",
   "metadata": {},
   "source": [
    "### Training the Random Forests with the best hyperparameters"
   ]
  },
  {
   "cell_type": "code",
   "execution_count": 26,
   "metadata": {},
   "outputs": [],
   "source": [
    "clf_American = sklearn.ensemble.RandomForestRegressor(random_state=0,\n",
    "                                                    max_depth=5,\n",
    "                                                    n_estimators=100).fit(american_X_train,american_y_train)\n",
    "\n",
    "\n",
    "clf_USD_CAD = sklearn.ensemble.RandomForestRegressor(random_state=0,\n",
    "                                                    max_depth=5,\n",
    "                                                    n_estimators=100).fit(USD_CAD_X_train,USD_CAD_y_train)\n",
    "\n",
    "clf_USD_BRL = sklearn.ensemble.RandomForestRegressor(random_state=0,\n",
    "                                                    max_depth=5,\n",
    "                                                    n_estimators=50).fit(USD_BRL_X_train,USD_BRL_y_train)                           "
   ]
  },
  {
   "cell_type": "code",
   "execution_count": 29,
   "metadata": {},
   "outputs": [],
   "source": [
    "american_forecast = clf_American.predict(american_X_test)\n",
    "USD_CAD_forecast = clf_USD_CAD.predict(USD_CAD_X_test)\n",
    "USD_BRL_forecast = clf_USD_BRL.predict(USD_BRL_X_test)"
   ]
  },
  {
   "cell_type": "code",
   "execution_count": 30,
   "metadata": {},
   "outputs": [
    {
     "data": {
      "image/png": "[encoded data removed]",
      "text/plain": [
       "<Figure size 432x288 with 1 Axes>"
      ]
     },
     "metadata": {
      "needs_background": "light"
     },
     "output_type": "display_data"
    },
    {
     "data": {
      "image/png": "[encoded data removed]",
      "text/plain": [
       "<Figure size 432x288 with 1 Axes>"
      ]
     },
     "metadata": {
      "needs_background": "light"
     },
     "output_type": "display_data"
    },
    {
     "data": {
      "image/png": "[encoded data removed]",
      "text/plain": [
       "<Figure size 432x288 with 1 Axes>"
      ]
     },
     "metadata": {
      "needs_background": "light"
     },
     "output_type": "display_data"
    }
   ],
   "source": [
    "plot_2_series(real=american_y_test,\n",
    "            model=american_forecast,\n",
    "            title='Forecast Comparison American',\n",
    "            xlabel='Years',\n",
    "            ylabel='Value')\n",
    "\n",
    "plot_2_series(real=USD_CAD_y_test,\n",
    "            model=USD_CAD_forecast,\n",
    "            title='Forecast Comparison USD/CAD',\n",
    "            xlabel='Years',\n",
    "            ylabel='Value')\n",
    "\n",
    "plot_2_series(real=USD_BRL_y_test,\n",
    "            model=USD_BRL_forecast,\n",
    "            title='Forecast Comparison USD/BRL',\n",
    "            xlabel='Years',\n",
    "            ylabel='Value')"
   ]
  },
  {
   "cell_type": "code",
   "execution_count": 31,
   "metadata": {},
   "outputs": [
    {
     "name": "stdout",
     "output_type": "stream",
     "text": [
      "\n",
      "American Forecast Errors\n",
      "  Error     Value\n",
      "0  MAPE  0.128700\n",
      "1    ME  0.019574\n",
      "2   MAE  0.024602\n",
      "3   MPE -0.125604\n",
      "4  RMSE  0.076594\n",
      "\n",
      "USD/CAD Forecast Errors\n",
      "  Error     Value\n",
      "0  MAPE  0.119547\n",
      "1    ME  0.000156\n",
      "2   MAE  0.000162\n",
      "3   MPE -0.119547\n",
      "4  RMSE  0.000420\n",
      "\n",
      "USD/BRL Forecast Errors\n",
      "  Error     Value\n",
      "0  MAPE  0.242575\n",
      "1    ME  0.000736\n",
      "2   MAE  0.000925\n",
      "3   MPE -0.242575\n",
      "4  RMSE  0.002328\n"
     ]
    }
   ],
   "source": [
    "print(\"\\nAmerican Forecast Errors\")\n",
    "print(errors(american_y_test,american_forecast))\n",
    "print(\"\\nUSD/CAD Forecast Errors\")\n",
    "print(errors(USD_CAD_y_test,USD_CAD_forecast))\n",
    "print(\"\\nUSD/BRL Forecast Errors\")\n",
    "print(errors(USD_BRL_y_test,USD_BRL_forecast))"
   ]
  }
 ],
 "metadata": {
  "interpreter": {
   "hash": "55e7ab8c27cbafe6d18c124d86861d40d983f556f7da7b64c5ce0967e5e2d6fe"
  },
  "kernelspec": {
   "display_name": "Python 3.8.10 64-bit ('base': conda)",
   "language": "python",
   "name": "python3"
  },
  "language_info": {
   "codemirror_mode": {
    "name": "ipython",
    "version": 3
   },
   "file_extension": ".py",
   "mimetype": "text/x-python",
   "name": "python",
   "nbconvert_exporter": "python",
   "pygments_lexer": "ipython3",
   "version": "3.8.10"
  },
  "orig_nbformat": 4
 },
 "nbformat": 4,
 "nbformat_minor": 2
}
