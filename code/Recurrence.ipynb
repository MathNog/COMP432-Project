{
 "cells": [
  {
   "cell_type": "markdown",
   "id": "17f0c288",
   "metadata": {},
   "source": [
    "## Recurrence Neural Networks Notebook\n",
    "\n",
    "### Description:\n",
    "\n",
    "This notebook aims to implement a **Recurrence Neural Network** for Forecasting Time Series.\n",
    "\n",
    "As explained in the **SeriesAnalysis** notebook, this notebook may use the results already obtained in **Series Analysis**, so that the focus can be only on the Model itself. The results that will be used are the stationary series obtained from the original series, in order to verify if the **Recurrence Networks** are capable of forecasting both stationary and non stationary series"
   ]
  },
  {
   "cell_type": "markdown",
   "id": "f359dc23",
   "metadata": {},
   "source": [
    "### Recurrence Networks brief introduction\n",
    "\n",
    "# COMPLETE\n"
   ]
  },
  {
   "cell_type": "code",
   "execution_count": null,
   "id": "9513e2ca",
   "metadata": {},
   "outputs": [],
   "source": [
    "#Packages needed\n",
    "\n",
    "import numpy as np\n",
    "import pandas as pd\n",
    "import matplotlib.pyplot as plt\n",
    "# COMPLETE WITH PACKAGES FOR RECURRENCE"
   ]
  },
  {
   "cell_type": "markdown",
   "id": "2f91cff4",
   "metadata": {},
   "source": [
    "### Some useful functions -> COMPLETE WITH MORE IF NEEDED AND DELETE ONES NOT NEEDED"
   ]
  },
  {
   "cell_type": "code",
   "execution_count": null,
   "id": "d426130f",
   "metadata": {},
   "outputs": [],
   "source": [
    "#Read and filter data from csv files, as well as handle missing values\n",
    "def read_filter(path,index,value):\n",
    "    df = pd.read_csv(path)\n",
    "    series = df.loc[:,[index,value]]\n",
    "    series.set_index(index,inplace=True)\n",
    "    series.index=pd.to_datetime(series.index)\n",
    "    series = series.asfreq('d')\n",
    "    series = series.interpolate()\n",
    "    return series\n",
    "\n",
    "#Ploting a single time series\n",
    "def plot_series(serie,title,xlabel,ylabel):\n",
    "    plt.figure()\n",
    "    plt.plot(serie)\n",
    "    plt.title=title\n",
    "    plt.xlabel=xlabel\n",
    "    plt.ylabel=ylabel\n",
    "    plt.show()\n",
    "    \n",
    "    \n",
    "# differentiate the series\n",
    "def diff(series,t):\n",
    "    for i in range(t):\n",
    "        series = series - series.shift(1)\n",
    "        series = series.dropna()\n",
    "    \n",
    "    return series\n",
    "\n",
    "#train test split\n",
    "def train_test(serie,numtest):\n",
    "    train = serie.iloc[0:len(serie)-numtest]\n",
    "    test = serie.iloc[len(serie)-numtest:]    \n",
    "    return train, test\n",
    "    \n",
    "#Compute some error metrics\n",
    "def errors(actual, predicted):\n",
    "    mape = np.mean(np.abs(predicted - actual)/np.abs(actual))  # MAPE\n",
    "    me = np.mean(predicted - actual)             # ME\n",
    "    mae = np.mean(np.abs(predicted - actual))    # MAE\n",
    "    mpe = np.mean((predicted - actual)/actual)   # MPE\n",
    "    rmse = np.mean((predicted - actual)**2)**.5  # RMSE\n",
    "    \n",
    "    errors = [['MAPE',mape],['ME',me],['MAE',mae],['MPE',mpe],['RMSE',rmse]]\n",
    "    \n",
    "    errors = pd.DataFrame(errors,columns=['Error','Value'])\n",
    "    return errors"
   ]
  },
  {
   "cell_type": "markdown",
   "id": "3aeb7281",
   "metadata": {},
   "source": [
    "### Importing the series and differenciating in order to get stationary behavior"
   ]
  },
  {
   "cell_type": "markdown",
   "id": "2dd01757",
   "metadata": {},
   "source": [
    "# NOTE:\n",
    "\n",
    "Feel free to pick just one to implement the code. After the code if ready and good, we can simply repeat for the others.\n",
    "I would suggest pick one that is \"diff\"."
   ]
  },
  {
   "cell_type": "code",
   "execution_count": null,
   "id": "7db9d437",
   "metadata": {},
   "outputs": [],
   "source": [
    "#Importing the dataset and making some changes\n",
    "USD_CAD_serie = read_filter('../data/CAD=X.csv','Date','Adj Close')\n",
    "USD_BRL_serie = read_filter('../data/BRL=X.csv','Date','Adj Close')\n",
    "AmericanAirlines_serie = read_filter('../data/AAL2010_2019.csv','Date','Adj Close')\n",
    "\n",
    "#differentiating the series\n",
    "USD_CAD_serie_diff1 = diff(USD_CAD_serie,1)\n",
    "USD_BRL_serie_diff1 = diff(USD_BRL_serie,1)\n",
    "AmericanAirlines_serie_diff1 = diff(AmericanAirlines_serie,1)"
   ]
  },
  {
   "cell_type": "markdown",
   "id": "4a243c93",
   "metadata": {},
   "source": [
    "## Training and Test Sets\n",
    "\n",
    "We must divide our time series into a training and test sample. Since our series has anual seasonality, let's leave the last yeas as test sample and the rest of the series as training.\n",
    "\n",
    "The size of the test series is the size of the largest forecast horizon."
   ]
  },
  {
   "cell_type": "code",
   "execution_count": 1,
   "id": "54067632",
   "metadata": {},
   "outputs": [
    {
     "ename": "NameError",
     "evalue": "name 'train_test' is not defined",
     "output_type": "error",
     "traceback": [
      "\u001b[1;31m---------------------------------------------------------------------------\u001b[0m",
      "\u001b[1;31mNameError\u001b[0m                                 Traceback (most recent call last)",
      "\u001b[1;32m~\\AppData\\Local\\Temp/ipykernel_21888/854601724.py\u001b[0m in \u001b[0;36m<module>\u001b[1;34m\u001b[0m\n\u001b[0;32m      1\u001b[0m \u001b[0mlargest_horizon\u001b[0m \u001b[1;33m=\u001b[0m \u001b[1;36m12\u001b[0m \u001b[1;31m#c12 weeks, 3 months\u001b[0m\u001b[1;33m\u001b[0m\u001b[1;33m\u001b[0m\u001b[0m\n\u001b[0;32m      2\u001b[0m \u001b[1;33m\u001b[0m\u001b[0m\n\u001b[1;32m----> 3\u001b[1;33m \u001b[0mtrain_American_diff1\u001b[0m\u001b[1;33m,\u001b[0m \u001b[0mtest_American_diff1\u001b[0m \u001b[1;33m=\u001b[0m \u001b[0mtrain_test\u001b[0m\u001b[1;33m(\u001b[0m\u001b[0mAmericanAirlines_serie_diff1\u001b[0m\u001b[1;33m,\u001b[0m\u001b[0mlargest_horizon\u001b[0m\u001b[1;33m)\u001b[0m\u001b[1;33m\u001b[0m\u001b[1;33m\u001b[0m\u001b[0m\n\u001b[0m\u001b[0;32m      4\u001b[0m \u001b[0mtrain_USD_CAD_diff1\u001b[0m\u001b[1;33m,\u001b[0m \u001b[0mtest_USD_CAD_diff1\u001b[0m \u001b[1;33m=\u001b[0m \u001b[0mtrain_test\u001b[0m\u001b[1;33m(\u001b[0m\u001b[0mUSD_CAD_serie_diff1\u001b[0m\u001b[1;33m,\u001b[0m\u001b[0mlargest_horizon\u001b[0m\u001b[1;33m)\u001b[0m\u001b[1;33m\u001b[0m\u001b[1;33m\u001b[0m\u001b[0m\n\u001b[0;32m      5\u001b[0m \u001b[0mtrain_USD_BRL_diff2\u001b[0m\u001b[1;33m,\u001b[0m \u001b[0mtest_USD_BRL_diff1\u001b[0m \u001b[1;33m=\u001b[0m \u001b[0mtrain_test\u001b[0m\u001b[1;33m(\u001b[0m\u001b[0mUSD_BRL_serie_diff1\u001b[0m\u001b[1;33m,\u001b[0m\u001b[0mlargest_horizon\u001b[0m\u001b[1;33m)\u001b[0m\u001b[1;33m\u001b[0m\u001b[1;33m\u001b[0m\u001b[0m\n",
      "\u001b[1;31mNameError\u001b[0m: name 'train_test' is not defined"
     ]
    }
   ],
   "source": [
    "largest_horizon = 12 #c12 weeks, 3 months\n",
    "\n",
    "train_American_diff1, test_American_diff1 = train_test(AmericanAirlines_serie_diff1,largest_horizon)\n",
    "train_USD_CAD_diff1, test_USD_CAD_diff1 = train_test(USD_CAD_serie_diff1,largest_horizon)\n",
    "train_USD_BRL_diff2, test_USD_BRL_diff1 = train_test(USD_BRL_serie_diff1,largest_horizon)"
   ]
  }
 ],
 "metadata": {
  "kernelspec": {
   "display_name": "Python 3 (ipykernel)",
   "language": "python",
   "name": "python3"
  },
  "language_info": {
   "codemirror_mode": {
    "name": "ipython",
    "version": 3
   },
   "file_extension": ".py",
   "mimetype": "text/x-python",
   "name": "python",
   "nbconvert_exporter": "python",
   "pygments_lexer": "ipython3",
   "version": "3.8.10"
  }
 },
 "nbformat": 4,
 "nbformat_minor": 5
}
