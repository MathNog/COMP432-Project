{
 "cells": [
  {
   "cell_type": "markdown",
   "id": "c07169bf",
   "metadata": {},
   "source": [
    "## GARCH Model\n",
    "\n",
    "### Description:\n",
    "\n",
    "In this notebook we will implement the code for a **GARCH Model** in order to make Financial **Time Series Forecasting**.\n",
    "\n",
    "Most of the notebook will be the same as in the **ARIMA** notebook, since the pre-process the the series must have is quite similar."
   ]
  },
  {
   "cell_type": "code",
   "execution_count": 1,
   "id": "fbe68437",
   "metadata": {},
   "outputs": [],
   "source": [
    "import numpy as np\n",
    "import pandas as pd\n",
    "import matplotlib.pyplot as plt\n",
    "from arch import arch_model"
   ]
  },
  {
   "cell_type": "markdown",
   "id": "a84bf6f9",
   "metadata": {},
   "source": [
    "### Some useful functions\n"
   ]
  },
  {
   "cell_type": "code",
   "execution_count": 2,
   "id": "8ff901a9",
   "metadata": {},
   "outputs": [],
   "source": [
    "#Ploting a single time series\n",
    "\n",
    "def plot_series(serie,title,xlabel,ylabel):\n",
    "    plt.figure()\n",
    "    plt.plot(serie)\n",
    "    plt.title=title\n",
    "    plt.xlabel=xlabel\n",
    "    plt.ylabel=ylabel\n",
    "    plt.show()\n",
    "    \n",
    "#Compute some error metrics\n",
    "\n",
    "def errors(actual, predicted):\n",
    "    mape = np.mean(np.abs(predicted - actual)/np.abs(actual))  # MAPE\n",
    "    me = np.mean(predicted - actual)             # ME\n",
    "    mae = np.mean(np.abs(predicted - actual))    # MAE\n",
    "    mpe = np.mean((predicted - actual)/actual)   # MPE\n",
    "    rmse = np.mean((predicted - actual)**2)**.5  # RMSE\n",
    "    \n",
    "    errors = [['MAPE',mape],['ME',me],['MAE',mae],['MPE',mpe],['RMSE',rmse]]\n",
    "    \n",
    "    errors = pd.DataFrame(errors,columns=['Error','Value'])\n",
    "    return errors"
   ]
  },
  {
   "cell_type": "code",
   "execution_count": 3,
   "id": "baa68016",
   "metadata": {
    "scrolled": true
   },
   "outputs": [
    {
     "data": {
      "text/html": [
       "<div>\n",
       "<style scoped>\n",
       "    .dataframe tbody tr th:only-of-type {\n",
       "        vertical-align: middle;\n",
       "    }\n",
       "\n",
       "    .dataframe tbody tr th {\n",
       "        vertical-align: top;\n",
       "    }\n",
       "\n",
       "    .dataframe thead th {\n",
       "        text-align: right;\n",
       "    }\n",
       "</style>\n",
       "<table border=\"1\" class=\"dataframe\">\n",
       "  <thead>\n",
       "    <tr style=\"text-align: right;\">\n",
       "      <th></th>\n",
       "      <th>Adj Close</th>\n",
       "    </tr>\n",
       "    <tr>\n",
       "      <th>Date</th>\n",
       "      <th></th>\n",
       "    </tr>\n",
       "  </thead>\n",
       "  <tbody>\n",
       "    <tr>\n",
       "      <th>2010-01-04</th>\n",
       "      <td>4.496876</td>\n",
       "    </tr>\n",
       "    <tr>\n",
       "      <th>2010-01-05</th>\n",
       "      <td>5.005957</td>\n",
       "    </tr>\n",
       "    <tr>\n",
       "      <th>2010-01-06</th>\n",
       "      <td>4.798555</td>\n",
       "    </tr>\n",
       "    <tr>\n",
       "      <th>2010-01-07</th>\n",
       "      <td>4.939965</td>\n",
       "    </tr>\n",
       "    <tr>\n",
       "      <th>2010-01-08</th>\n",
       "      <td>4.845690</td>\n",
       "    </tr>\n",
       "  </tbody>\n",
       "</table>\n",
       "</div>"
      ],
      "text/plain": [
       "            Adj Close\n",
       "Date                 \n",
       "2010-01-04   4.496876\n",
       "2010-01-05   5.005957\n",
       "2010-01-06   4.798555\n",
       "2010-01-07   4.939965\n",
       "2010-01-08   4.845690"
      ]
     },
     "execution_count": 3,
     "metadata": {},
     "output_type": "execute_result"
    }
   ],
   "source": [
    "#Importing the dataset and making some changes\n",
    "\n",
    "series = pd.read_csv('../data/AAL2010_2019.csv')\n",
    "series = series.loc[:,[\"Date\",\"Adj Close\"]]\n",
    "series.set_index(\"Date\",inplace=True)\n",
    "series.index=pd.to_datetime(series.index)\n",
    "series = series.asfreq('d')\n",
    "\n",
    "series.head()"
   ]
  },
  {
   "cell_type": "markdown",
   "id": "8e12fdf8",
   "metadata": {},
   "source": [
    "### Checkpoint\n",
    "\n",
    "Before moving one, we shall look for missing values in the data, because, if they exist, they will result in errors in the future."
   ]
  },
  {
   "cell_type": "code",
   "execution_count": 4,
   "id": "6d23e437",
   "metadata": {},
   "outputs": [
    {
     "data": {
      "text/html": [
       "<div>\n",
       "<style scoped>\n",
       "    .dataframe tbody tr th:only-of-type {\n",
       "        vertical-align: middle;\n",
       "    }\n",
       "\n",
       "    .dataframe tbody tr th {\n",
       "        vertical-align: top;\n",
       "    }\n",
       "\n",
       "    .dataframe thead th {\n",
       "        text-align: right;\n",
       "    }\n",
       "</style>\n",
       "<table border=\"1\" class=\"dataframe\">\n",
       "  <thead>\n",
       "    <tr style=\"text-align: right;\">\n",
       "      <th></th>\n",
       "      <th>Adj Close</th>\n",
       "    </tr>\n",
       "  </thead>\n",
       "  <tbody>\n",
       "    <tr>\n",
       "      <th>count</th>\n",
       "      <td>2515.000000</td>\n",
       "    </tr>\n",
       "    <tr>\n",
       "      <th>mean</th>\n",
       "      <td>27.720886</td>\n",
       "    </tr>\n",
       "    <tr>\n",
       "      <th>std</th>\n",
       "      <td>15.293633</td>\n",
       "    </tr>\n",
       "    <tr>\n",
       "      <th>min</th>\n",
       "      <td>3.770966</td>\n",
       "    </tr>\n",
       "    <tr>\n",
       "      <th>25%</th>\n",
       "      <td>10.634124</td>\n",
       "    </tr>\n",
       "    <tr>\n",
       "      <th>50%</th>\n",
       "      <td>31.826118</td>\n",
       "    </tr>\n",
       "    <tr>\n",
       "      <th>75%</th>\n",
       "      <td>40.424132</td>\n",
       "    </tr>\n",
       "    <tr>\n",
       "      <th>max</th>\n",
       "      <td>56.988728</td>\n",
       "    </tr>\n",
       "  </tbody>\n",
       "</table>\n",
       "</div>"
      ],
      "text/plain": [
       "         Adj Close\n",
       "count  2515.000000\n",
       "mean     27.720886\n",
       "std      15.293633\n",
       "min       3.770966\n",
       "25%      10.634124\n",
       "50%      31.826118\n",
       "75%      40.424132\n",
       "max      56.988728"
      ]
     },
     "execution_count": 4,
     "metadata": {},
     "output_type": "execute_result"
    }
   ],
   "source": [
    "series.describe() # just to look at some Descriptive Analytics"
   ]
  },
  {
   "cell_type": "code",
   "execution_count": 5,
   "id": "df06ebf9",
   "metadata": {},
   "outputs": [
    {
     "data": {
      "text/plain": [
       "Adj Close    1133\n",
       "dtype: int64"
      ]
     },
     "execution_count": 5,
     "metadata": {},
     "output_type": "execute_result"
    }
   ],
   "source": [
    "series.isnull().sum() #we have a lot of missing values"
   ]
  },
  {
   "cell_type": "code",
   "execution_count": 6,
   "id": "b72a6c6c",
   "metadata": {},
   "outputs": [
    {
     "data": {
      "image/png": "[encoded data removed]",
      "text/plain": [
       "<Figure size 432x288 with 1 Axes>"
      ]
     },
     "metadata": {
      "needs_background": "light"
     },
     "output_type": "display_data"
    }
   ],
   "source": [
    "#Visualizing the Series\n",
    "\n",
    "plot_series(series,\"American Airlies Adj Close - Monthly\",xlabel=\"Month\",ylabel=\"Price\")"
   ]
  },
  {
   "cell_type": "code",
   "execution_count": 7,
   "id": "e447c1af",
   "metadata": {},
   "outputs": [
    {
     "data": {
      "image/png": "[encoded data removed]",
      "text/plain": [
       "<Figure size 432x288 with 1 Axes>"
      ]
     },
     "metadata": {
      "needs_background": "light"
     },
     "output_type": "display_data"
    }
   ],
   "source": [
    "series = series.interpolate() #fill missing values with interpolation\n",
    "\n",
    "#Visualizing the Series\n",
    "\n",
    "plot_series(series,\"American Airlies Adj Close - Monthly\",xlabel=\"Month\",ylabel=\"Price\")"
   ]
  },
  {
   "cell_type": "code",
   "execution_count": null,
   "id": "c79245d8",
   "metadata": {},
   "outputs": [],
   "source": []
  }
 ],
 "metadata": {
  "kernelspec": {
   "display_name": "Python 3 (ipykernel)",
   "language": "python",
   "name": "python3"
  },
  "language_info": {
   "codemirror_mode": {
    "name": "ipython",
    "version": 3
   },
   "file_extension": ".py",
   "mimetype": "text/x-python",
   "name": "python",
   "nbconvert_exporter": "python",
   "pygments_lexer": "ipython3",
   "version": "3.8.10"
  }
 },
 "nbformat": 4,
 "nbformat_minor": 5
}
